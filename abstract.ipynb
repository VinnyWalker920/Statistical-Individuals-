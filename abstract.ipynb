{
 "cells": [
  {
   "cell_type": "markdown",
   "metadata": {
    "pycharm": {
     "name": "#%% md\n"
    }
   },
   "source": [
    "s = # of Strands<br>\n",
    "S^r =Set of all strands<br>\n",
    "S_i = strand in index i<br><br>\n",
    "\n",
    "t = Strand length<br>\n",
    "C^r = value of cell C_i<br>\n",
    "C_i = cells in index i<br><br>\n",
    "\n",
    "\n",
    "t = Strand length<br>\n",
    "R = random selection from set of all possible random mutations for value C_i^r<br><br>\n",
    "\n",
    "O = # of optimal Mutations<br>\n",
    "O_r = set of optimal values<br><br>\n",
    "\n"
   ]
  },
  {
   "cell_type": "markdown",
   "metadata": {
    "pycharm": {
     "name": "#%% md\n"
    }
   },
   "source": [
    "The First Question that I asked was what is the probability that C_i^r gets mutated into\n",
    "an optimal number(0) O_r<br><br>\n",
    "If we assume the probability event A is defined as the probability C_i cell is chosen out of t cells and we assume that\n",
    "probability event B is defined as the probability that R ∈ O_r and that event A and B are independent of eachother, then\n",
    "P(A∩B) = O/100t"
   ]
  },
  {
   "cell_type": "code",
   "execution_count": 29,
   "metadata": {
    "pycharm": {
     "name": "#%%\n"
    }
   },
   "outputs": [
    {
     "name": "stdout",
     "output_type": "stream",
     "text": [
      "0.006666666666666667\n"
     ]
    }
   ],
   "source": [
    "import operator\n",
    "from functools import reduce\n",
    "from subject import GeneticCode\n",
    "\n",
    "gene = GeneticCode()\n",
    "varO = 2 #Number of optimal mutations\n",
    "vart = 3 #Strand Length\n",
    "PerfectMutaionOf1Cell = lambda O,t: O/(100*t)\n",
    "print(PerfectMutaionOf1Cell(varO,vart))\n"
   ]
  },
  {
   "cell_type": "markdown",
   "metadata": {},
   "source": [
    "The second question I asked is what would be the probability that C_i^r ∈ O_r ∀ S_i ∈ S^r.<br><br>\n",
    "\n",
    "if we assume that the probability event C is defined as the probably each strand in S^r gets a perfect mutation for C_i\n",
    "then we can say that the product of P(A∩B) for all values of t in S^r is equal to P(C) so:<br><br>\n",
    "s<br>\n",
    "Π O/100t = P(C)<br>\n",
    "t=1"
   ]
  },
  {
   "cell_type": "code",
   "execution_count": 30,
   "metadata": {
    "pycharm": {
     "name": "#%%\n"
    }
   },
   "outputs": [
    {
     "name": "stdout",
     "output_type": "stream",
     "text": [
      "4.309980412182178e-53\n"
     ]
    }
   ],
   "source": [
    "SetOfProbabilities = [PerfectMutaionOf1Cell(varO,len(i)) for i in gene]\n",
    "PerfectMutaionForAllStrands = lambda s: reduce(operator.mul, s, 1)\n",
    "print(PerfectMutaionForAllStrands(SetOfProbabilities))\n",
    "\n",
    "\n",
    "\n",
    "\n",
    "\n",
    "\n",
    "\n",
    "\n",
    "\n"
   ]
  },
  {
   "cell_type": "code",
   "execution_count": null,
   "metadata": {},
   "outputs": [],
   "source": []
  }
 ],
 "metadata": {
  "kernelspec": {
   "display_name": "Python 3",
   "language": "python",
   "name": "python3"
  },
  "language_info": {
   "codemirror_mode": {
    "name": "ipython",
    "version": 3
   },
   "file_extension": ".py",
   "mimetype": "text/x-python",
   "name": "python",
   "nbconvert_exporter": "python",
   "pygments_lexer": "ipython3",
   "version": "3.7.0"
  }
 },
 "nbformat": 4,
 "nbformat_minor": 1
}