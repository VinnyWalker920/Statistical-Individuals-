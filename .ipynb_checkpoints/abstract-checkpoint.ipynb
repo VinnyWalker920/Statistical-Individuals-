{
 "cells": [
  {
   "cell_type": "markdown",
   "metadata": {},
   "source": [
    "\n"
   ]
  }
 ],
 "metadata": {
  "kernelspec": {
   "display_name": "Python 3",
   "language": "python",
   "name": "python3"
  },
  "language_info": {
   "codemirror_mode": {
    "name": "ipython",
    "version": 3
   },
   "file_extension": ".py",
   "mimetype": "text/x-python",
   "name": "python",
   "nbconvert_exporter": "python",
   "pygments_lexer": "ipython3",
   "version": "3.7.0"
  },
  "pycharm": {
   "stem_cell": {
    "cell_type": "raw",
    "metadata": {
     "collapsed": false
    },
    "source": [
     "\n",
     "\n",
     "The First Question that I asked what is the probability that 1 cell gets mutated into\n",
     "an optimal number O which is defined as the quantatiy of optimal numbers in your mutaion pool.\n",
     "For example, the possible options for mutaion of a single cell are numbers 1-100 therfore if \n",
     "98 < O < 100 there are 2 possible options"
    ]
   }
  }
 },
 "nbformat": 4,
 "nbformat_minor": 1
}
